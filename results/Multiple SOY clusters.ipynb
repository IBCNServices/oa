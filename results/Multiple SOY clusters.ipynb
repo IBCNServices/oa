{
 "cells": [
  {
   "cell_type": "code",
   "execution_count": 2,
   "metadata": {},
   "outputs": [],
   "source": [
    "BASEDIR = \"/home/merlijn/PHD/PAPERS, PRESENTATIONS, CONFERENCES & PROPOSALS/Software: Practice and Experience/results\"\n",
    "\n",
    "import pandas\n",
    "data = pandas.read_csv(\n",
    "    BASEDIR + '/multiple_soy_clusters.log',\n",
    "    delim_whitespace=True,\n",
    ")\n",
    "\n",
    "data2 = pandas.read_csv(\n",
    "    BASEDIR + '/multiple_soy_clusters-1.log',\n",
    "    delim_whitespace=True,\n",
    ")"
   ]
  },
  {
   "cell_type": "code",
   "execution_count": 3,
   "metadata": {},
   "outputs": [
    {
     "data": {
      "text/html": [
       "<div>\n",
       "<style>\n",
       "    .dataframe thead tr:only-child th {\n",
       "        text-align: right;\n",
       "    }\n",
       "\n",
       "    .dataframe thead th {\n",
       "        text-align: left;\n",
       "    }\n",
       "\n",
       "    .dataframe tbody tr th {\n",
       "        vertical-align: top;\n",
       "    }\n",
       "</style>\n",
       "<table border=\"1\" class=\"dataframe\">\n",
       "  <thead>\n",
       "    <tr>\n",
       "      <th></th>\n",
       "      <th colspan=\"2\" halign=\"left\">elapsed_time</th>\n",
       "    </tr>\n",
       "    <tr>\n",
       "      <th></th>\n",
       "      <th>mean</th>\n",
       "      <th>std</th>\n",
       "    </tr>\n",
       "    <tr>\n",
       "      <th>clustrs</th>\n",
       "      <th></th>\n",
       "      <th></th>\n",
       "    </tr>\n",
       "  </thead>\n",
       "  <tbody>\n",
       "    <tr>\n",
       "      <th>5</th>\n",
       "      <td>0.385803</td>\n",
       "      <td>0.066011</td>\n",
       "    </tr>\n",
       "    <tr>\n",
       "      <th>10</th>\n",
       "      <td>0.760414</td>\n",
       "      <td>0.128589</td>\n",
       "    </tr>\n",
       "    <tr>\n",
       "      <th>15</th>\n",
       "      <td>1.086062</td>\n",
       "      <td>0.193010</td>\n",
       "    </tr>\n",
       "    <tr>\n",
       "      <th>20</th>\n",
       "      <td>1.496717</td>\n",
       "      <td>0.312506</td>\n",
       "    </tr>\n",
       "    <tr>\n",
       "      <th>25</th>\n",
       "      <td>1.762723</td>\n",
       "      <td>0.242445</td>\n",
       "    </tr>\n",
       "  </tbody>\n",
       "</table>\n",
       "</div>"
      ],
      "text/plain": [
       "        elapsed_time          \n",
       "                mean       std\n",
       "clustrs                       \n",
       "5           0.385803  0.066011\n",
       "10          0.760414  0.128589\n",
       "15          1.086062  0.193010\n",
       "20          1.496717  0.312506\n",
       "25          1.762723  0.242445"
      ]
     },
     "execution_count": 3,
     "metadata": {},
     "output_type": "execute_result"
    }
   ],
   "source": [
    "\n",
    "grouped = data.groupby(\n",
    "    ['clustrs']\n",
    ").agg(\n",
    "    {'elapsed_time':['mean','std']}\n",
    ")\n",
    "\n",
    "grouped.head()\n"
   ]
  },
  {
   "cell_type": "code",
   "execution_count": 4,
   "metadata": {},
   "outputs": [
    {
     "data": {
      "text/html": [
       "<div>\n",
       "<style>\n",
       "    .dataframe thead tr:only-child th {\n",
       "        text-align: right;\n",
       "    }\n",
       "\n",
       "    .dataframe thead th {\n",
       "        text-align: left;\n",
       "    }\n",
       "\n",
       "    .dataframe tbody tr th {\n",
       "        vertical-align: top;\n",
       "    }\n",
       "</style>\n",
       "<table border=\"1\" class=\"dataframe\">\n",
       "  <thead>\n",
       "    <tr style=\"text-align: right;\">\n",
       "      <th></th>\n",
       "      <th>clusters</th>\n",
       "      <th>mean</th>\n",
       "      <th>std</th>\n",
       "    </tr>\n",
       "  </thead>\n",
       "  <tbody>\n",
       "    <tr>\n",
       "      <th>0</th>\n",
       "      <td>5</td>\n",
       "      <td>0.385803</td>\n",
       "      <td>0.066011</td>\n",
       "    </tr>\n",
       "    <tr>\n",
       "      <th>1</th>\n",
       "      <td>10</td>\n",
       "      <td>0.760414</td>\n",
       "      <td>0.128589</td>\n",
       "    </tr>\n",
       "    <tr>\n",
       "      <th>2</th>\n",
       "      <td>15</td>\n",
       "      <td>1.086062</td>\n",
       "      <td>0.193010</td>\n",
       "    </tr>\n",
       "    <tr>\n",
       "      <th>3</th>\n",
       "      <td>20</td>\n",
       "      <td>1.496717</td>\n",
       "      <td>0.312506</td>\n",
       "    </tr>\n",
       "    <tr>\n",
       "      <th>4</th>\n",
       "      <td>25</td>\n",
       "      <td>1.762723</td>\n",
       "      <td>0.242445</td>\n",
       "    </tr>\n",
       "  </tbody>\n",
       "</table>\n",
       "</div>"
      ],
      "text/plain": [
       "   clusters      mean       std\n",
       "0         5  0.385803  0.066011\n",
       "1        10  0.760414  0.128589\n",
       "2        15  1.086062  0.193010\n",
       "3        20  1.496717  0.312506\n",
       "4        25  1.762723  0.242445"
      ]
     },
     "execution_count": 4,
     "metadata": {},
     "output_type": "execute_result"
    }
   ],
   "source": [
    "merged = grouped\n",
    "final = merged.reset_index()\n",
    "final.columns = ['clusters', 'mean', 'std']\n",
    "final.head()"
   ]
  },
  {
   "cell_type": "code",
   "execution_count": 5,
   "metadata": {},
   "outputs": [],
   "source": [
    "import numpy as np\n",
    "from datetime import timedelta\n",
    "import matplotlib.pyplot as plt\n",
    "\n",
    "\n",
    "def create_sane_figure():\n",
    "    # You typically want your plot to be ~1.33x wider than tall.\n",
    "    # Common sizes: (10, 7.5) and (12, 9)\n",
    "    fig = plt.figure(figsize=(12, 6))  # a new figure window\n",
    "    ax = fig.add_subplot(1, 1, 1)      # specify (nrows, ncols, axnum)\n",
    "\n",
    "    # Put the axis behind the datapoints\n",
    "    ax.set_axisbelow(True)\n",
    "    # Grey ticks, labels, and axis'\n",
    "    for spine in ax.spines.values():\n",
    "        spine.set_color('black')\n",
    "    for line in ax.get_xticklines() + ax.get_yticklines():\n",
    "        line.set_color('black')\n",
    "    ax.set_xlabel(None, fontsize=16, color='black')\n",
    "    ax.set_ylabel(None, fontsize=16, color='black')\n",
    "    # Don't show a grid\n",
    "    ax.grid(False)\n",
    "    # remove top and right border of graph\n",
    "    ax.spines[\"top\"].set_visible(False)\n",
    "    ax.spines[\"right\"].set_visible(False)\n",
    "    ax.tick_params(\n",
    "        axis='both', which='both',\n",
    "        labelsize=14, labelcolor='black',\n",
    "        color='black')\n",
    "    # Make the title big enough so it spans the entire plot, but don't make it\n",
    "    # so big that it requires two lines to show.\n",
    "    ax.set_title(None, fontsize=22, color='black')\n",
    "    return (fig, ax)"
   ]
  },
  {
   "cell_type": "code",
   "execution_count": 6,
   "metadata": {},
   "outputs": [
    {
     "name": "stderr",
     "output_type": "stream",
     "text": [
      "/usr/local/lib/python3.6/dist-packages/matplotlib/figure.py:403: UserWarning: matplotlib is currently using a non-GUI backend, so cannot show the figure\n",
      "  \"matplotlib is currently using a non-GUI backend, \"\n"
     ]
    },
    {
     "data": {
      "image/png": "[encoded data removed]",
      "text/plain": [
       "<matplotlib.figure.Figure at 0x7f7ad860f588>"
      ]
     },
     "metadata": {},
     "output_type": "display_data"
    }
   ],
   "source": [
    "%matplotlib inline\n",
    "\n",
    "def create_multiple_soy_clusters():\n",
    "    (fig, ax) = create_sane_figure()\n",
    "\n",
    "    ax.set_title(\"Orchestrating multiple Spark-on-YARN clusters\", fontsize=22)\n",
    "    ax.set_xlabel(\"number of clusters\")\n",
    "    ax.set_ylabel(\"orchestration time (s)\")\n",
    "\n",
    "    ax.set_xticks(range(0, 101, 20))\n",
    "    ax.set_yticks(np.arange(0, 7, 1))\n",
    "\n",
    "#     # Now put the actual data in the plot\n",
    "#     ax.errorbar(\n",
    "#         final.clusters, final['mean'],\n",
    "#         yerr=final['std'],\n",
    "#         label=\"concurrency potential\",\n",
    "#         linestyle='None',\n",
    "#         capsize=5,\n",
    "#         fmt='o',\n",
    " \n",
    "#     )\n",
    "    ax.plot(\n",
    "        data['clustrs'], data['elapsed_time'],'o',\n",
    "    )\n",
    "#     ax.plot(\n",
    "#         data2['clustrs'], data2['elapsed_time'],'o', color=\"black\"\n",
    "#     )\n",
    "    # Save the plot to a file\n",
    "    # fig.savefig(\"multiple_soy_clusters.png\", bbox_inches=\"tight\")\n",
    "    fig.savefig(\"multiple_soy_clusters.pdf\", bbox_inches=\"tight\")\n",
    "    fig.show()\n",
    "create_multiple_soy_clusters()"
   ]
  }
 ],
 "metadata": {
  "kernelspec": {
   "display_name": "Python 3",
   "language": "python",
   "name": "python3"
  },
  "language_info": {
   "codemirror_mode": {
    "name": "ipython",
    "version": 3
   },
   "file_extension": ".py",
   "mimetype": "text/x-python",
   "name": "python",
   "nbconvert_exporter": "python",
   "pygments_lexer": "ipython3",
   "version": "3.6.3"
  }
 },
 "nbformat": 4,
 "nbformat_minor": 2
}
