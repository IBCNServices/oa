{
 "cells": [
  {
   "cell_type": "code",
   "execution_count": 10,
   "metadata": {},
   "outputs": [],
   "source": [
    "BASEDIR = \"/home/merlijn/PHD/PAPERS, PRESENTATIONS, CONFERENCES & PROPOSALS/Software: Practice and Experience/results\"\n",
    "\n",
    "import pandas\n",
    "or_data = pandas.read_csv(\n",
    "    BASEDIR + '/deploy_soy_cluster.log',\n",
    "    delim_whitespace=True,\n",
    ")\n",
    "\n",
    "dep_data = pandas.read_csv(\n",
    "    BASEDIR + '/deploy_soy_cluster.csv',\n",
    ")\n"
   ]
  },
  {
   "cell_type": "code",
   "execution_count": 11,
   "metadata": {},
   "outputs": [
    {
     "data": {
      "text/html": [
       "<div>\n",
       "<style>\n",
       "    .dataframe thead tr:only-child th {\n",
       "        text-align: right;\n",
       "    }\n",
       "\n",
       "    .dataframe thead th {\n",
       "        text-align: left;\n",
       "    }\n",
       "\n",
       "    .dataframe tbody tr th {\n",
       "        vertical-align: top;\n",
       "    }\n",
       "</style>\n",
       "<table border=\"1\" class=\"dataframe\">\n",
       "  <thead>\n",
       "    <tr style=\"text-align: right;\">\n",
       "      <th></th>\n",
       "      <th>workers</th>\n",
       "      <th>deploy_time</th>\n",
       "      <th>orchestration_time</th>\n",
       "    </tr>\n",
       "  </thead>\n",
       "  <tbody>\n",
       "    <tr>\n",
       "      <th>0</th>\n",
       "      <td>5</td>\n",
       "      <td>1166.02</td>\n",
       "      <td>0.062379</td>\n",
       "    </tr>\n",
       "    <tr>\n",
       "      <th>1</th>\n",
       "      <td>10</td>\n",
       "      <td>1332.00</td>\n",
       "      <td>0.056056</td>\n",
       "    </tr>\n",
       "    <tr>\n",
       "      <th>2</th>\n",
       "      <td>15</td>\n",
       "      <td>1314.09</td>\n",
       "      <td>0.057854</td>\n",
       "    </tr>\n",
       "    <tr>\n",
       "      <th>3</th>\n",
       "      <td>20</td>\n",
       "      <td>1566.02</td>\n",
       "      <td>0.056686</td>\n",
       "    </tr>\n",
       "    <tr>\n",
       "      <th>4</th>\n",
       "      <td>25</td>\n",
       "      <td>1850.41</td>\n",
       "      <td>0.057393</td>\n",
       "    </tr>\n",
       "  </tbody>\n",
       "</table>\n",
       "</div>"
      ],
      "text/plain": [
       "   workers  deploy_time  orchestration_time\n",
       "0        5      1166.02            0.062379\n",
       "1       10      1332.00            0.056056\n",
       "2       15      1314.09            0.057854\n",
       "3       20      1566.02            0.056686\n",
       "4       25      1850.41            0.057393"
      ]
     },
     "execution_count": 11,
     "metadata": {},
     "output_type": "execute_result"
    }
   ],
   "source": [
    "dep_data.columns = ['workers', 'deploy_time', 'orchestration_time'] \n",
    "dep_data.head()"
   ]
  },
  {
   "cell_type": "code",
   "execution_count": null,
   "metadata": {},
   "outputs": [],
   "source": []
  },
  {
   "cell_type": "code",
   "execution_count": 12,
   "metadata": {},
   "outputs": [
    {
     "data": {
      "text/html": [
       "<div>\n",
       "<style>\n",
       "    .dataframe thead tr:only-child th {\n",
       "        text-align: right;\n",
       "    }\n",
       "\n",
       "    .dataframe thead th {\n",
       "        text-align: left;\n",
       "    }\n",
       "\n",
       "    .dataframe tbody tr th {\n",
       "        vertical-align: top;\n",
       "    }\n",
       "</style>\n",
       "<table border=\"1\" class=\"dataframe\">\n",
       "  <thead>\n",
       "    <tr>\n",
       "      <th></th>\n",
       "      <th colspan=\"2\" halign=\"left\">elapsed_time</th>\n",
       "    </tr>\n",
       "    <tr>\n",
       "      <th></th>\n",
       "      <th>mean</th>\n",
       "      <th>std</th>\n",
       "    </tr>\n",
       "    <tr>\n",
       "      <th>workers</th>\n",
       "      <th></th>\n",
       "      <th></th>\n",
       "    </tr>\n",
       "  </thead>\n",
       "  <tbody>\n",
       "    <tr>\n",
       "      <th>5</th>\n",
       "      <td>0.060359</td>\n",
       "      <td>0.014473</td>\n",
       "    </tr>\n",
       "    <tr>\n",
       "      <th>10</th>\n",
       "      <td>0.052850</td>\n",
       "      <td>0.016333</td>\n",
       "    </tr>\n",
       "    <tr>\n",
       "      <th>15</th>\n",
       "      <td>0.057029</td>\n",
       "      <td>0.016351</td>\n",
       "    </tr>\n",
       "    <tr>\n",
       "      <th>20</th>\n",
       "      <td>0.060745</td>\n",
       "      <td>0.012981</td>\n",
       "    </tr>\n",
       "    <tr>\n",
       "      <th>25</th>\n",
       "      <td>0.062591</td>\n",
       "      <td>0.013745</td>\n",
       "    </tr>\n",
       "  </tbody>\n",
       "</table>\n",
       "</div>"
      ],
      "text/plain": [
       "        elapsed_time          \n",
       "                mean       std\n",
       "workers                       \n",
       "5           0.060359  0.014473\n",
       "10          0.052850  0.016333\n",
       "15          0.057029  0.016351\n",
       "20          0.060745  0.012981\n",
       "25          0.062591  0.013745"
      ]
     },
     "execution_count": 12,
     "metadata": {},
     "output_type": "execute_result"
    }
   ],
   "source": [
    "\n",
    "or_grouped = or_data.groupby(\n",
    "    ['workers']\n",
    ").agg(\n",
    "    {'elapsed_time':['mean','std']}\n",
    ")\n",
    "\n",
    "or_grouped.head()\n"
   ]
  },
  {
   "cell_type": "code",
   "execution_count": null,
   "metadata": {},
   "outputs": [],
   "source": [
    "\n"
   ]
  },
  {
   "cell_type": "code",
   "execution_count": null,
   "metadata": {},
   "outputs": [],
   "source": []
  },
  {
   "cell_type": "code",
   "execution_count": 13,
   "metadata": {},
   "outputs": [
    {
     "data": {
      "text/html": [
       "<div>\n",
       "<style>\n",
       "    .dataframe thead tr:only-child th {\n",
       "        text-align: right;\n",
       "    }\n",
       "\n",
       "    .dataframe thead th {\n",
       "        text-align: left;\n",
       "    }\n",
       "\n",
       "    .dataframe tbody tr th {\n",
       "        vertical-align: top;\n",
       "    }\n",
       "</style>\n",
       "<table border=\"1\" class=\"dataframe\">\n",
       "  <thead>\n",
       "    <tr style=\"text-align: right;\">\n",
       "      <th></th>\n",
       "      <th>workers</th>\n",
       "      <th>mean</th>\n",
       "      <th>std</th>\n",
       "    </tr>\n",
       "  </thead>\n",
       "  <tbody>\n",
       "    <tr>\n",
       "      <th>0</th>\n",
       "      <td>5</td>\n",
       "      <td>0.060359</td>\n",
       "      <td>0.014473</td>\n",
       "    </tr>\n",
       "    <tr>\n",
       "      <th>1</th>\n",
       "      <td>10</td>\n",
       "      <td>0.052850</td>\n",
       "      <td>0.016333</td>\n",
       "    </tr>\n",
       "    <tr>\n",
       "      <th>2</th>\n",
       "      <td>15</td>\n",
       "      <td>0.057029</td>\n",
       "      <td>0.016351</td>\n",
       "    </tr>\n",
       "    <tr>\n",
       "      <th>3</th>\n",
       "      <td>20</td>\n",
       "      <td>0.060745</td>\n",
       "      <td>0.012981</td>\n",
       "    </tr>\n",
       "    <tr>\n",
       "      <th>4</th>\n",
       "      <td>25</td>\n",
       "      <td>0.062591</td>\n",
       "      <td>0.013745</td>\n",
       "    </tr>\n",
       "  </tbody>\n",
       "</table>\n",
       "</div>"
      ],
      "text/plain": [
       "   workers      mean       std\n",
       "0        5  0.060359  0.014473\n",
       "1       10  0.052850  0.016333\n",
       "2       15  0.057029  0.016351\n",
       "3       20  0.060745  0.012981\n",
       "4       25  0.062591  0.013745"
      ]
     },
     "execution_count": 13,
     "metadata": {},
     "output_type": "execute_result"
    }
   ],
   "source": [
    "final = or_grouped.reset_index()\n",
    "final.columns = ['workers', 'mean', 'std']\n",
    "final.head()"
   ]
  },
  {
   "cell_type": "code",
   "execution_count": 14,
   "metadata": {},
   "outputs": [
    {
     "data": {
      "text/html": [
       "<div>\n",
       "<style>\n",
       "    .dataframe thead tr:only-child th {\n",
       "        text-align: right;\n",
       "    }\n",
       "\n",
       "    .dataframe thead th {\n",
       "        text-align: left;\n",
       "    }\n",
       "\n",
       "    .dataframe tbody tr th {\n",
       "        vertical-align: top;\n",
       "    }\n",
       "</style>\n",
       "<table border=\"1\" class=\"dataframe\">\n",
       "  <thead>\n",
       "    <tr style=\"text-align: right;\">\n",
       "      <th></th>\n",
       "      <th>workers</th>\n",
       "      <th>deploy_time</th>\n",
       "      <th>orchestration_time</th>\n",
       "      <th>orchestration_std</th>\n",
       "    </tr>\n",
       "  </thead>\n",
       "  <tbody>\n",
       "    <tr>\n",
       "      <th>0</th>\n",
       "      <td>5</td>\n",
       "      <td>1166.02</td>\n",
       "      <td>0.060359</td>\n",
       "      <td>0.014473</td>\n",
       "    </tr>\n",
       "    <tr>\n",
       "      <th>1</th>\n",
       "      <td>10</td>\n",
       "      <td>1332.00</td>\n",
       "      <td>0.052850</td>\n",
       "      <td>0.016333</td>\n",
       "    </tr>\n",
       "    <tr>\n",
       "      <th>2</th>\n",
       "      <td>15</td>\n",
       "      <td>1314.09</td>\n",
       "      <td>0.057029</td>\n",
       "      <td>0.016351</td>\n",
       "    </tr>\n",
       "    <tr>\n",
       "      <th>3</th>\n",
       "      <td>20</td>\n",
       "      <td>1566.02</td>\n",
       "      <td>0.060745</td>\n",
       "      <td>0.012981</td>\n",
       "    </tr>\n",
       "    <tr>\n",
       "      <th>4</th>\n",
       "      <td>25</td>\n",
       "      <td>1850.41</td>\n",
       "      <td>0.062591</td>\n",
       "      <td>0.013745</td>\n",
       "    </tr>\n",
       "  </tbody>\n",
       "</table>\n",
       "</div>"
      ],
      "text/plain": [
       "   workers  deploy_time  orchestration_time  orchestration_std\n",
       "0        5      1166.02            0.060359           0.014473\n",
       "1       10      1332.00            0.052850           0.016333\n",
       "2       15      1314.09            0.057029           0.016351\n",
       "3       20      1566.02            0.060745           0.012981\n",
       "4       25      1850.41            0.062591           0.013745"
      ]
     },
     "execution_count": 14,
     "metadata": {},
     "output_type": "execute_result"
    }
   ],
   "source": [
    "merged = dep_data\n",
    "merged['orchestration_time'] = final['mean']\n",
    "merged['orchestration_std'] = final['std']\n",
    "# dep_data['deploy_time'] = pandas.to_timedelta(dep_data['deploy_time'], unit='s')\n",
    "# merged['orchestration_time'] = pandas.to_timedelta(merged['orchestration_time'], unit='s')\n",
    "# merged['orchestration_std'] = pandas.to_timedelta(merged['orchestration_std'])\n",
    "final_both = merged[merged['workers'] <= 60]  # Limit to x values < 100\n",
    "final_both.head()\n"
   ]
  },
  {
   "cell_type": "code",
   "execution_count": null,
   "metadata": {},
   "outputs": [],
   "source": []
  },
  {
   "cell_type": "code",
   "execution_count": 15,
   "metadata": {},
   "outputs": [],
   "source": [
    "import numpy as np\n",
    "from datetime import timedelta\n",
    "import matplotlib.pyplot as plt\n",
    "\n",
    "\n",
    "def create_sane_figure():\n",
    "    # You typically want your plot to be ~1.33x wider than tall.\n",
    "    # Common sizes: (10, 7.5) and (12, 9)\n",
    "    fig = plt.figure(figsize=(12, 6))  # a new figure window\n",
    "    ax = fig.add_subplot(1, 1, 1)      # specify (nrows, ncols, axnum)\n",
    "\n",
    "    # Put the axis behind the datapoints\n",
    "    ax.set_axisbelow(True)\n",
    "    # Grey ticks, labels, and axis'\n",
    "    for spine in ax.spines.values():\n",
    "        spine.set_color('black')\n",
    "    for line in ax.get_xticklines() + ax.get_yticklines():\n",
    "        line.set_color('black')\n",
    "    ax.set_xlabel(None, fontsize=16, color='black')\n",
    "    ax.set_ylabel(None, fontsize=16, color='black')\n",
    "    # Don't show a grid\n",
    "    ax.grid(False)\n",
    "    # remove top and right border of graph\n",
    "    ax.spines[\"top\"].set_visible(False)\n",
    "    ax.spines[\"right\"].set_visible(False)\n",
    "    ax.tick_params(\n",
    "        axis='both', which='both',\n",
    "        labelsize=14, labelcolor='black',\n",
    "        color='black')\n",
    "    # Make the title big enough so it spans the entire plot, but don't make it\n",
    "    # so big that it requires two lines to show.\n",
    "    ax.set_title(None, fontsize=22, color='black')\n",
    "    return (fig, ax)"
   ]
  },
  {
   "cell_type": "code",
   "execution_count": 16,
   "metadata": {},
   "outputs": [
    {
     "name": "stderr",
     "output_type": "stream",
     "text": [
      "/usr/local/lib/python3.6/dist-packages/matplotlib/figure.py:403: UserWarning: matplotlib is currently using a non-GUI backend, so cannot show the figure\n",
      "  \"matplotlib is currently using a non-GUI backend, \"\n"
     ]
    },
    {
     "data": {
      "image/png": "[encoded data removed]",
      "text/plain": [
       "<matplotlib.figure.Figure at 0x7fbcb8120e48>"
      ]
     },
     "metadata": {},
     "output_type": "display_data"
    }
   ],
   "source": [
    "%matplotlib inline\n",
    "\n",
    "def create_orchestrating_soy_cluster_graph():\n",
    "    (fig, ax) = create_sane_figure()\n",
    "\n",
    "    ax.set_title(\"Orchestrating a Spark-on-YARN cluster\", fontsize=22)\n",
    "    ax.set_xlabel(\"number of Hadoop workers\")\n",
    "    ax.set_ylabel(\"orchestration time (s)\")\n",
    "\n",
    "    ax.set_xticks(range(0, 101, 5))\n",
    "    ax.set_yticks(np.arange(0, 0.11, 0.01))\n",
    "\n",
    "    # Now put the actual data in the plot\n",
    "    ax.errorbar(\n",
    "        final_both['workers'], final_both['orchestration_time'],\n",
    "        yerr=final_both['orchestration_std'],\n",
    "        linestyle='None',\n",
    "        capsize=5,\n",
    "        fmt='o'\n",
    "    )\n",
    "    ax.plot([0], [0], color='white')  # make sure graph starts at 0\n",
    "    ax.margins(0.03)\n",
    "    # Save the plot to a file\n",
    "    fig.savefig(\"orchestrating_soy_cluster.pdf\", bbox_inches=\"tight\")\n",
    "    fig.show()\n",
    "create_orchestrating_soy_cluster_graph()"
   ]
  },
  {
   "cell_type": "code",
   "execution_count": 17,
   "metadata": {},
   "outputs": [
    {
     "name": "stdout",
     "output_type": "stream",
     "text": [
      "#ff7f0e\n"
     ]
    },
    {
     "name": "stderr",
     "output_type": "stream",
     "text": [
      "/usr/local/lib/python3.6/dist-packages/matplotlib/figure.py:403: UserWarning: matplotlib is currently using a non-GUI backend, so cannot show the figure\n",
      "  \"matplotlib is currently using a non-GUI backend, \"\n"
     ]
    },
    {
     "data": {
      "image/png": "[encoded data removed]",
      "text/plain": [
       "<matplotlib.figure.Figure at 0x7fbcb5af14e0>"
      ]
     },
     "metadata": {},
     "output_type": "display_data"
    }
   ],
   "source": [
    "import matplotlib \n",
    "\n",
    "def create_soy_cluster_graph():\n",
    "    (fig, ax) = create_sane_figure()\n",
    "\n",
    "    ax.set_title(\"Deploying a Spark-on-YARN cluster\", fontsize=22)\n",
    "    ax.set_xlabel(\"number of Hadoop workers\")\n",
    "    ax.set_ylabel(\"deployment time (h:m:s)\")\n",
    "\n",
    "    ax.set_xticks(range(0, 61, 5))\n",
    "    ax.set_yticks(range(0, 3*60*60, 20*60))\n",
    "\n",
    "    # Now put the actual data in the plot\n",
    "#     ax.errorbar(\n",
    "#         final_both['workers'], final_both['orchestration_time'],\n",
    "#         yerr=final_both['orchestration_std'],\n",
    "#         linestyle='None',\n",
    "#         capsize=5,\n",
    "#         fmt='o'\n",
    "#     )\n",
    "    b = ax.plot(\n",
    "        final_both['workers'], final_both['deploy_time'],\n",
    "        'o',     # circles instead of lines\n",
    "        color=\"#ff7f0e\",\n",
    "    ) \n",
    "    \n",
    "    print(matplotlib.colors.rgb2hex(b[0].get_color()))\n",
    "\n",
    "    ax.plot([0], [0], color='white')  # make sure graph starts at 0\n",
    "    ax.margins(0.03)\n",
    "    from matplotlib import ticker\n",
    "        \n",
    "    def major_formatter(x, pos):\n",
    "        hours, remainder = divmod(x, 3600)\n",
    "        minutes, seconds = divmod(remainder, 60) \n",
    "        duration_formatted = '%02d:%02d:%02d' % (hours, minutes, seconds)\n",
    "        \n",
    "        return duration_formatted\n",
    "    ax.yaxis.set_major_formatter(ticker.FuncFormatter(major_formatter))\n",
    "    \n",
    "    # Save the plot to a file\n",
    "    fig.savefig(\"soy_cluster.pdf\", bbox_inches=\"tight\")\n",
    "    fig.show()\n",
    "    \n",
    "    \n",
    "create_soy_cluster_graph()"
   ]
  },
  {
   "cell_type": "code",
   "execution_count": 18,
   "metadata": {},
   "outputs": [
    {
     "data": {
      "text/plain": [
       "Timedelta('0 days 00:00:01')"
      ]
     },
     "execution_count": 18,
     "metadata": {},
     "output_type": "execute_result"
    }
   ],
   "source": [
    "pandas.to_timedelta(1.00, unit='s')"
   ]
  }
 ],
 "metadata": {
  "kernelspec": {
   "display_name": "Python 3",
   "language": "python",
   "name": "python3"
  },
  "language_info": {
   "codemirror_mode": {
    "name": "ipython",
    "version": 3
   },
   "file_extension": ".py",
   "mimetype": "text/x-python",
   "name": "python",
   "nbconvert_exporter": "python",
   "pygments_lexer": "ipython3",
   "version": "3.6.3"
  }
 },
 "nbformat": 4,
 "nbformat_minor": 2
}
