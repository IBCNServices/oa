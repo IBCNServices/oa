{
 "cells": [
  {
   "cell_type": "code",
   "execution_count": 1,
   "metadata": {},
   "outputs": [],
   "source": [
    "BASEDIR = \".\"\n",
    "\n",
    "import pandas\n",
    "data = pandas.read_csv(\n",
    "    BASEDIR + '/concurrency_potential.log',\n",
    "    delim_whitespace=True,\n",
    ")\n"
   ]
  },
  {
   "cell_type": "code",
   "execution_count": 2,
   "metadata": {},
   "outputs": [],
   "source": [
    "\n",
    "grouped = data.groupby(\n",
    "    ['childrn', 'agents']\n",
    ").agg(\n",
    "    {'elapsed_time':['mean','std']}\n",
    ")\n",
    "\n",
    "#grouped.head()\n"
   ]
  },
  {
   "cell_type": "code",
   "execution_count": 3,
   "metadata": {},
   "outputs": [
    {
     "data": {
      "text/html": [
       "<div>\n",
       "<style>\n",
       "    .dataframe thead tr:only-child th {\n",
       "        text-align: right;\n",
       "    }\n",
       "\n",
       "    .dataframe thead th {\n",
       "        text-align: left;\n",
       "    }\n",
       "\n",
       "    .dataframe tbody tr th {\n",
       "        vertical-align: top;\n",
       "    }\n",
       "</style>\n",
       "<table border=\"1\" class=\"dataframe\">\n",
       "  <thead>\n",
       "    <tr style=\"text-align: right;\">\n",
       "      <th></th>\n",
       "      <th>agents</th>\n",
       "      <th>unary_mean</th>\n",
       "      <th>unary_std</th>\n",
       "      <th>binary_mean</th>\n",
       "      <th>binary_std</th>\n",
       "    </tr>\n",
       "  </thead>\n",
       "  <tbody>\n",
       "    <tr>\n",
       "      <th>0</th>\n",
       "      <td>10</td>\n",
       "      <td>0.164732</td>\n",
       "      <td>0.039519</td>\n",
       "      <td>0.068583</td>\n",
       "      <td>0.012888</td>\n",
       "    </tr>\n",
       "    <tr>\n",
       "      <th>1</th>\n",
       "      <td>20</td>\n",
       "      <td>0.231848</td>\n",
       "      <td>0.066786</td>\n",
       "      <td>0.099073</td>\n",
       "      <td>0.003903</td>\n",
       "    </tr>\n",
       "    <tr>\n",
       "      <th>2</th>\n",
       "      <td>30</td>\n",
       "      <td>0.348394</td>\n",
       "      <td>0.026522</td>\n",
       "      <td>0.165894</td>\n",
       "      <td>0.023393</td>\n",
       "    </tr>\n",
       "    <tr>\n",
       "      <th>3</th>\n",
       "      <td>40</td>\n",
       "      <td>0.676056</td>\n",
       "      <td>0.040610</td>\n",
       "      <td>0.247531</td>\n",
       "      <td>0.025086</td>\n",
       "    </tr>\n",
       "    <tr>\n",
       "      <th>4</th>\n",
       "      <td>50</td>\n",
       "      <td>1.012338</td>\n",
       "      <td>0.041795</td>\n",
       "      <td>0.328656</td>\n",
       "      <td>0.009708</td>\n",
       "    </tr>\n",
       "  </tbody>\n",
       "</table>\n",
       "</div>"
      ],
      "text/plain": [
       "   agents  unary_mean  unary_std  binary_mean  binary_std\n",
       "0      10    0.164732   0.039519     0.068583    0.012888\n",
       "1      20    0.231848   0.066786     0.099073    0.003903\n",
       "2      30    0.348394   0.026522     0.165894    0.023393\n",
       "3      40    0.676056   0.040610     0.247531    0.025086\n",
       "4      50    1.012338   0.041795     0.328656    0.009708"
      ]
     },
     "execution_count": 3,
     "metadata": {},
     "output_type": "execute_result"
    }
   ],
   "source": [
    "merged = grouped.unstack(0)\n",
    "merged.columns = merged.columns.swaplevel(2, 1)\n",
    "merged.sort_index(level=0, axis='columns', inplace=True)\n",
    "merged.columns.set_levels(['unary','binary'],level=1, inplace=True)\n",
    "merged.head()\n",
    "final = merged.reset_index()\n",
    "final.columns = ['agents', 'unary_mean', 'unary_std', 'binary_mean', 'binary_std']\n",
    "\n",
    "final.head()"
   ]
  },
  {
   "cell_type": "code",
   "execution_count": 4,
   "metadata": {},
   "outputs": [],
   "source": [
    "import numpy as np\n",
    "from datetime import timedelta\n",
    "import matplotlib.pyplot as plt\n",
    "\n",
    "\n",
    "def create_sane_figure():\n",
    "    # You typically want your plot to be ~1.33x wider than tall.\n",
    "    # Common sizes: (10, 7.5) and (12, 9)\n",
    "    fig = plt.figure(figsize=(12, 6))  # a new figure window\n",
    "    ax = fig.add_subplot(1, 1, 1)      # specify (nrows, ncols, axnum)\n",
    "\n",
    "    # Put the axis behind the datapoints\n",
    "    ax.set_axisbelow(True)\n",
    "    # Grey ticks, labels, and axis'\n",
    "    for spine in ax.spines.values():\n",
    "        spine.set_color('black')\n",
    "    for line in ax.get_xticklines() + ax.get_yticklines():\n",
    "        line.set_color('black')\n",
    "    ax.set_xlabel(None, fontsize=16, color='black')\n",
    "    ax.set_ylabel(None, fontsize=16, color='black')\n",
    "    # Don't show a grid\n",
    "    ax.grid(False)\n",
    "    # remove top and right border of graph\n",
    "    ax.spines[\"top\"].set_visible(False)\n",
    "    ax.spines[\"right\"].set_visible(False)\n",
    "    ax.tick_params(\n",
    "        axis='both', which='both',\n",
    "        labelsize=14, labelcolor='black',\n",
    "        color='black')\n",
    "    # Make the title big enough so it spans the entire plot, but don't make it\n",
    "    # so big that it requires two lines to show.\n",
    "    ax.set_title(None, fontsize=22, color='black')\n",
    "    return (fig, ax)"
   ]
  },
  {
   "cell_type": "code",
   "execution_count": 5,
   "metadata": {},
   "outputs": [
    {
     "name": "stderr",
     "output_type": "stream",
     "text": [
      "/usr/local/lib/python3.6/dist-packages/matplotlib/figure.py:403: UserWarning: matplotlib is currently using a non-GUI backend, so cannot show the figure\n",
      "  \"matplotlib is currently using a non-GUI backend, \"\n"
     ]
    },
    {
     "data": {
      "image/png": "[encoded data removed]",
      "text/plain": [
       "<matplotlib.figure.Figure at 0x7f9285aca2b0>"
      ]
     },
     "metadata": {},
     "output_type": "display_data"
    }
   ],
   "source": [
    "%matplotlib inline\n",
    "\n",
    "def create_concurrency_potential_graph():\n",
    "    (fig, ax) = create_sane_figure()\n",
    "\n",
    "    ax.set_title(\"Utilization of concurrency potential\", fontsize=22)\n",
    "    ax.set_xlabel(\"number of agents\")\n",
    "    ax.set_ylabel(\"simulation time (s)\")\n",
    "\n",
    "    ax.set_xticks(range(0, 251, 50))\n",
    "    ax.set_yticks(np.arange(0, 17, 2))\n",
    "\n",
    "    # Now put the actual data in the plot\n",
    "    ax.errorbar(\n",
    "        final.agents, final.binary_mean,  # https://stackoverflow.com/a/21989204/1588555\n",
    "        yerr=final.binary_std,\n",
    "        label=\"concurrency potential\",\n",
    "        linestyle='None',\n",
    "        capsize=5,\n",
    "        fmt='o'\n",
    "    )\n",
    "    ax.errorbar(\n",
    "        final.agents, final.unary_mean,  # https://stackoverflow.com/a/21989204/1588555\n",
    "        yerr=final.unary_std,\n",
    "        label=\"no concurrency potential\",\n",
    "        linestyle='None',\n",
    "        capsize=5,\n",
    "        fmt='o'\n",
    "    )\n",
    "\n",
    "    ax.legend()\n",
    "    ax.legend(loc=2, prop={'size': 14})\n",
    "\n",
    "    \n",
    "    ax.margins(0.03)\n",
    "    # Save the plot to a file\n",
    "    fig.savefig(\"concurrency_potential.pdf\", bbox_inches=\"tight\")\n",
    "    fig.show()\n",
    "create_concurrency_potential_graph()"
   ]
  }
 ],
 "metadata": {
  "kernelspec": {
   "display_name": "Python 3",
   "language": "python",
   "name": "python3"
  },
  "language_info": {
   "codemirror_mode": {
    "name": "ipython",
    "version": 3
   },
   "file_extension": ".py",
   "mimetype": "text/x-python",
   "name": "python",
   "nbconvert_exporter": "python",
   "pygments_lexer": "ipython3",
   "version": "3.6.3"
  }
 },
 "nbformat": 4,
 "nbformat_minor": 2
}
